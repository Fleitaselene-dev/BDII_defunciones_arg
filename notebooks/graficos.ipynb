{
 "cells": [
  {
   "cell_type": "code",
   "execution_count": 2,
   "id": "8f6b99c4",
   "metadata": {},
   "outputs": [],
   "source": [
    "import pandas as pd \n",
    "import plotly.express as px \n",
    "import plotly.io as pio\n",
    "import plotly.graph_objects as go\n",
    "import streamlit as st\n",
    "pio.renderers.default = 'browser'\n",
    "\n",
    "df = pd.read_csv(\"dataset_limpio.csv\")\n",
    "df.head(100).to_html('tabla_defunciones.html', index=False)\n",
    "\n",
    "\n"
   ]
  },
  {
   "cell_type": "code",
   "execution_count": 18,
   "id": "e22e04e5",
   "metadata": {},
   "outputs": [],
   "source": [
    "\n",
    "df.head()\n",
    "cantidad_defunciones = df['AÑO'].value_counts().sort_index()\n",
    "defunciones_año = cantidad_defunciones.reset_index()\n",
    "defunciones_año.columns = ['AÑO', 'Cantidad']\n",
    "fig = px.line(defunciones_año, x='AÑO', y='Cantidad', labels={'AÑO':'Año defunciones', '':'cantidad de defunciones'}, markers=False)\n",
    "fig.update_traces(marker=dict(size=6), line=dict(width=2.5, color='red'), textposition = 'top center')\n",
    "fig.write_html(\"Defunciones_por_año.html\", full_html = True)\n",
    "fig.show()"
   ]
  },
  {
   "cell_type": "code",
   "execution_count": 26,
   "id": "a8020c1b",
   "metadata": {},
   "outputs": [],
   "source": [
    "genero = df['GENERO'].value_counts()\n",
    "cantidad_genero = genero.reset_index()\n",
    "cantidad_genero.columns = ['GENERO', 'Cantidad']\n",
    "fig = px.bar(cantidad_genero, x='GENERO', y='Cantidad', color='GENERO', labels={'GENERO':'Genero', 'Cantidad':'Cantidad'}, color_discrete_sequence=px.colors.qualitative.Plotly)\n",
    "fig.write_html(\"Cantidad_genero.html\", full_html = True)\n",
    "fig.show()\n",
    "\n"
   ]
  },
  {
   "cell_type": "code",
   "execution_count": 32,
   "id": "66e0f3cd",
   "metadata": {},
   "outputs": [],
   "source": [
    "defunciones_genero = df.groupby(['AÑO', 'GENERO']).size().reset_index(name='Cantidad')\n",
    "fig = go.Figure()\n",
    "\n",
    "for genero in defunciones_genero['GENERO'].unique():\n",
    "    datos_filtrados = defunciones_genero[defunciones_genero['GENERO'] == genero]\n",
    "    fig.add_trace(go.Scatter(\n",
    "        x=datos_filtrados['AÑO'],\n",
    "        y=datos_filtrados['Cantidad'],\n",
    "        mode='lines+markers',\n",
    "        name=genero,\n",
    "        line=dict(width=2.5),\n",
    "        marker=dict(size=4.5)\n",
    "    ))\n",
    "fig.update_layout(\n",
    "    title='Defunciones por Género a lo largo del tiempo',\n",
    "    xaxis_title='Año',\n",
    "    yaxis_title='Cantidad de Defunciones',\n",
    "    template='plotly_white'\n",
    ")\n",
    "fig.write_html(\"Defunciones_por_año_genero.html\", full_html = True)\n",
    "fig.show()"
   ]
  },
  {
   "cell_type": "code",
   "execution_count": null,
   "id": "8591c836",
   "metadata": {},
   "outputs": [
    {
     "ename": "ValueError",
     "evalue": "Value of 'y' is not the name of a column in 'data_frame'. Expected one of ['FECHA_DEFUNCION', 'GENERO', 'DESCRIPCION_SUBTIPO', 'AÑO'] but received: Cantidad",
     "output_type": "error",
     "traceback": [
      "\u001b[31m---------------------------------------------------------------------------\u001b[39m",
      "\u001b[31mValueError\u001b[39m                                Traceback (most recent call last)",
      "\u001b[36mCell\u001b[39m\u001b[36m \u001b[39m\u001b[32mIn[27]\u001b[39m\u001b[32m, line 1\u001b[39m\n\u001b[32m----> \u001b[39m\u001b[32m1\u001b[39m fig = \u001b[43mpx\u001b[49m\u001b[43m.\u001b[49m\u001b[43mline\u001b[49m\u001b[43m(\u001b[49m\u001b[43mdf\u001b[49m\u001b[43m,\u001b[49m\u001b[43m \u001b[49m\u001b[43mx\u001b[49m\u001b[43m=\u001b[49m\u001b[33;43m\"\u001b[39;49m\u001b[33;43mAÑO\u001b[39;49m\u001b[33;43m\"\u001b[39;49m\u001b[43m,\u001b[49m\u001b[43m \u001b[49m\u001b[43my\u001b[49m\u001b[43m=\u001b[49m\u001b[33;43m\"\u001b[39;49m\u001b[33;43mCantidad\u001b[39;49m\u001b[33;43m\"\u001b[39;49m\u001b[43m,\u001b[49m\u001b[43m \u001b[49m\u001b[43mcolor\u001b[49m\u001b[43m=\u001b[49m\u001b[33;43m\"\u001b[39;49m\u001b[33;43mGENERO\u001b[39;49m\u001b[33;43m\"\u001b[39;49m\u001b[43m,\u001b[49m\n\u001b[32m      2\u001b[39m \u001b[43m              \u001b[49m\u001b[43mmarkers\u001b[49m\u001b[43m=\u001b[49m\u001b[38;5;28;43;01mTrue\u001b[39;49;00m\u001b[43m,\u001b[49m\n\u001b[32m      3\u001b[39m \u001b[43m              \u001b[49m\u001b[43mtitle\u001b[49m\u001b[43m=\u001b[49m\u001b[33;43m\"\u001b[39;49m\u001b[33;43mEvolución de Defunciones por Género\u001b[39;49m\u001b[33;43m\"\u001b[39;49m\u001b[43m)\u001b[49m\n\u001b[32m      5\u001b[39m fig.update_layout(xaxis_title=\u001b[33m\"\u001b[39m\u001b[33mAño\u001b[39m\u001b[33m\"\u001b[39m, yaxis_title=\u001b[33m\"\u001b[39m\u001b[33mCantidad de Defunciones\u001b[39m\u001b[33m\"\u001b[39m)\n\u001b[32m      6\u001b[39m fig.show()\n",
      "\u001b[36mFile \u001b[39m\u001b[32mc:\\Users\\IPF-2025\\Desktop\\defunciones_arg\\env\\Lib\\site-packages\\plotly\\express\\_chart_types.py:270\u001b[39m, in \u001b[36mline\u001b[39m\u001b[34m(data_frame, x, y, line_group, color, line_dash, symbol, hover_name, hover_data, custom_data, text, facet_row, facet_col, facet_col_wrap, facet_row_spacing, facet_col_spacing, error_x, error_x_minus, error_y, error_y_minus, animation_frame, animation_group, category_orders, labels, orientation, color_discrete_sequence, color_discrete_map, line_dash_sequence, line_dash_map, symbol_sequence, symbol_map, markers, log_x, log_y, range_x, range_y, line_shape, render_mode, title, subtitle, template, width, height)\u001b[39m\n\u001b[32m    221\u001b[39m \u001b[38;5;28;01mdef\u001b[39;00m\u001b[38;5;250m \u001b[39m\u001b[34mline\u001b[39m(\n\u001b[32m    222\u001b[39m     data_frame=\u001b[38;5;28;01mNone\u001b[39;00m,\n\u001b[32m    223\u001b[39m     x=\u001b[38;5;28;01mNone\u001b[39;00m,\n\u001b[32m   (...)\u001b[39m\u001b[32m    264\u001b[39m     height=\u001b[38;5;28;01mNone\u001b[39;00m,\n\u001b[32m    265\u001b[39m ) -> go.Figure:\n\u001b[32m    266\u001b[39m \u001b[38;5;250m    \u001b[39m\u001b[33;03m\"\"\"\u001b[39;00m\n\u001b[32m    267\u001b[39m \u001b[33;03m    In a 2D line plot, each row of `data_frame` is represented as a vertex of\u001b[39;00m\n\u001b[32m    268\u001b[39m \u001b[33;03m    a polyline mark in 2D space.\u001b[39;00m\n\u001b[32m    269\u001b[39m \u001b[33;03m    \"\"\"\u001b[39;00m\n\u001b[32m--> \u001b[39m\u001b[32m270\u001b[39m     \u001b[38;5;28;01mreturn\u001b[39;00m \u001b[43mmake_figure\u001b[49m\u001b[43m(\u001b[49m\u001b[43margs\u001b[49m\u001b[43m=\u001b[49m\u001b[38;5;28;43mlocals\u001b[39;49m\u001b[43m(\u001b[49m\u001b[43m)\u001b[49m\u001b[43m,\u001b[49m\u001b[43m \u001b[49m\u001b[43mconstructor\u001b[49m\u001b[43m=\u001b[49m\u001b[43mgo\u001b[49m\u001b[43m.\u001b[49m\u001b[43mScatter\u001b[49m\u001b[43m)\u001b[49m\n",
      "\u001b[36mFile \u001b[39m\u001b[32mc:\\Users\\IPF-2025\\Desktop\\defunciones_arg\\env\\Lib\\site-packages\\plotly\\express\\_core.py:2479\u001b[39m, in \u001b[36mmake_figure\u001b[39m\u001b[34m(args, constructor, trace_patch, layout_patch)\u001b[39m\n\u001b[32m   2476\u001b[39m layout_patch = layout_patch \u001b[38;5;129;01mor\u001b[39;00m {}\n\u001b[32m   2477\u001b[39m apply_default_cascade(args)\n\u001b[32m-> \u001b[39m\u001b[32m2479\u001b[39m args = \u001b[43mbuild_dataframe\u001b[49m\u001b[43m(\u001b[49m\u001b[43margs\u001b[49m\u001b[43m,\u001b[49m\u001b[43m \u001b[49m\u001b[43mconstructor\u001b[49m\u001b[43m)\u001b[49m\n\u001b[32m   2480\u001b[39m \u001b[38;5;28;01mif\u001b[39;00m constructor \u001b[38;5;129;01min\u001b[39;00m [go.Treemap, go.Sunburst, go.Icicle] \u001b[38;5;129;01mand\u001b[39;00m args[\u001b[33m\"\u001b[39m\u001b[33mpath\u001b[39m\u001b[33m\"\u001b[39m] \u001b[38;5;129;01mis\u001b[39;00m \u001b[38;5;129;01mnot\u001b[39;00m \u001b[38;5;28;01mNone\u001b[39;00m:\n\u001b[32m   2481\u001b[39m     args = process_dataframe_hierarchy(args)\n",
      "\u001b[36mFile \u001b[39m\u001b[32mc:\\Users\\IPF-2025\\Desktop\\defunciones_arg\\env\\Lib\\site-packages\\plotly\\express\\_core.py:1727\u001b[39m, in \u001b[36mbuild_dataframe\u001b[39m\u001b[34m(args, constructor)\u001b[39m\n\u001b[32m   1724\u001b[39m     args[\u001b[33m\"\u001b[39m\u001b[33mcolor\u001b[39m\u001b[33m\"\u001b[39m] = \u001b[38;5;28;01mNone\u001b[39;00m\n\u001b[32m   1725\u001b[39m \u001b[38;5;66;03m# now that things have been prepped, we do the systematic rewriting of `args`\u001b[39;00m\n\u001b[32m-> \u001b[39m\u001b[32m1727\u001b[39m df_output, wide_id_vars = \u001b[43mprocess_args_into_dataframe\u001b[49m\u001b[43m(\u001b[49m\n\u001b[32m   1728\u001b[39m \u001b[43m    \u001b[49m\u001b[43margs\u001b[49m\u001b[43m,\u001b[49m\n\u001b[32m   1729\u001b[39m \u001b[43m    \u001b[49m\u001b[43mwide_mode\u001b[49m\u001b[43m,\u001b[49m\n\u001b[32m   1730\u001b[39m \u001b[43m    \u001b[49m\u001b[43mvar_name\u001b[49m\u001b[43m,\u001b[49m\n\u001b[32m   1731\u001b[39m \u001b[43m    \u001b[49m\u001b[43mvalue_name\u001b[49m\u001b[43m,\u001b[49m\n\u001b[32m   1732\u001b[39m \u001b[43m    \u001b[49m\u001b[43mis_pd_like\u001b[49m\u001b[43m,\u001b[49m\n\u001b[32m   1733\u001b[39m \u001b[43m    \u001b[49m\u001b[43mnative_namespace\u001b[49m\u001b[43m,\u001b[49m\n\u001b[32m   1734\u001b[39m \u001b[43m\u001b[49m\u001b[43m)\u001b[49m\n\u001b[32m   1735\u001b[39m df_output: nw.DataFrame\n\u001b[32m   1736\u001b[39m \u001b[38;5;66;03m# now that `df_output` exists and `args` contains only references, we complete\u001b[39;00m\n\u001b[32m   1737\u001b[39m \u001b[38;5;66;03m# the special-case and wide-mode handling by further rewriting args and/or mutating\u001b[39;00m\n\u001b[32m   1738\u001b[39m \u001b[38;5;66;03m# df_output\u001b[39;00m\n",
      "\u001b[36mFile \u001b[39m\u001b[32mc:\\Users\\IPF-2025\\Desktop\\defunciones_arg\\env\\Lib\\site-packages\\plotly\\express\\_core.py:1328\u001b[39m, in \u001b[36mprocess_args_into_dataframe\u001b[39m\u001b[34m(args, wide_mode, var_name, value_name, is_pd_like, native_namespace)\u001b[39m\n\u001b[32m   1326\u001b[39m         \u001b[38;5;28;01mif\u001b[39;00m argument == \u001b[33m\"\u001b[39m\u001b[33mindex\u001b[39m\u001b[33m\"\u001b[39m:\n\u001b[32m   1327\u001b[39m             err_msg += \u001b[33m\"\u001b[39m\u001b[38;5;130;01m\\n\u001b[39;00m\u001b[33m To use the index, pass it in directly as `df.index`.\u001b[39m\u001b[33m\"\u001b[39m\n\u001b[32m-> \u001b[39m\u001b[32m1328\u001b[39m         \u001b[38;5;28;01mraise\u001b[39;00m \u001b[38;5;167;01mValueError\u001b[39;00m(err_msg)\n\u001b[32m   1329\u001b[39m \u001b[38;5;28;01melif\u001b[39;00m length \u001b[38;5;129;01mand\u001b[39;00m (actual_len := \u001b[38;5;28mlen\u001b[39m(df_input)) != length:\n\u001b[32m   1330\u001b[39m     \u001b[38;5;28;01mraise\u001b[39;00m \u001b[38;5;167;01mValueError\u001b[39;00m(\n\u001b[32m   1331\u001b[39m         \u001b[33m\"\u001b[39m\u001b[33mAll arguments should have the same length. \u001b[39m\u001b[33m\"\u001b[39m\n\u001b[32m   1332\u001b[39m         \u001b[33m\"\u001b[39m\u001b[33mThe length of column argument `df[\u001b[39m\u001b[38;5;132;01m%s\u001b[39;00m\u001b[33m]` is \u001b[39m\u001b[38;5;132;01m%d\u001b[39;00m\u001b[33m, whereas the \u001b[39m\u001b[33m\"\u001b[39m\n\u001b[32m   (...)\u001b[39m\u001b[32m   1339\u001b[39m         )\n\u001b[32m   1340\u001b[39m     )\n",
      "\u001b[31mValueError\u001b[39m: Value of 'y' is not the name of a column in 'data_frame'. Expected one of ['FECHA_DEFUNCION', 'GENERO', 'DESCRIPCION_SUBTIPO', 'AÑO'] but received: Cantidad"
     ]
    }
   ],
   "source": [
    "fig = px.line(df, x=\"AÑO\", y=\"Cantidad\", color=\"GENERO\",\n",
    "              markers=True,\n",
    "              title=\"Evolución de Defunciones por Género\")\n",
    "\n",
    "fig.update_layout(xaxis_title=\"Año\", yaxis_title=\"Cantidad de Defunciones\")\n",
    "fig.show()"
   ]
  },
  {
   "cell_type": "code",
   "execution_count": 17,
   "id": "a3bb0f24",
   "metadata": {},
   "outputs": [],
   "source": [
    "df.head()\n",
    "df_2 = df[(df['AÑO'] >= 2018) & (df['AÑO'] <= 2024)]\n",
    "cantidad_defunciones = df_2['AÑO'].value_counts().sort_index()\n",
    "defunciones_año = cantidad_defunciones.reset_index()\n",
    "defunciones_año.columns = ['AÑO', 'Cantidad']\n",
    "fig = px.line(defunciones_año, x='AÑO', y='Cantidad', labels={'AÑO':'Año defunciones', '':'cantidad de defunciones'}, markers=True)\n",
    "fig.update_traces(marker=dict(size=6), line=dict(width=2.5, color='red'), textposition = 'top center')\n",
    "fig.add_vline(x=2020, line_dash=\"dash\", line_color=\"darkblue\", line_width=2)\n",
    "fig.add_annotation(\n",
    "    x=2020, \n",
    "    y=defunciones_año[defunciones_año['AÑO'] == 2020]['Cantidad'].values[0],\n",
    "    text=\"Inicio pandemia\",\n",
    "    showarrow= False,\n",
    "    ax=0,\n",
    "    ay=-40,\n",
    "    yshift=70 ,\n",
    "     xanchor='right',\n",
    "    yanchor='middle',\n",
    "    font=dict(color=\"darkblue\", size=16)\n",
    ")\n",
    "\n",
    "fig.write_html(\"Defunciones_cuarentena.html\", full_html = True)\n",
    "fig.show()"
   ]
  }
 ],
 "metadata": {
  "kernelspec": {
   "display_name": "env",
   "language": "python",
   "name": "python3"
  },
  "language_info": {
   "codemirror_mode": {
    "name": "ipython",
    "version": 3
   },
   "file_extension": ".py",
   "mimetype": "text/x-python",
   "name": "python",
   "nbconvert_exporter": "python",
   "pygments_lexer": "ipython3",
   "version": "3.13.2"
  }
 },
 "nbformat": 4,
 "nbformat_minor": 5
}
